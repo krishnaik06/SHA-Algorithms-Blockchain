{
 "cells": [
  {
   "cell_type": "markdown",
   "id": "fifth-carol",
   "metadata": {},
   "source": [
    "### SHA, ( Secure Hash Algorithms )- Base Of BlockChain"
   ]
  },
  {
   "cell_type": "markdown",
   "id": "golden-basket",
   "metadata": {},
   "source": [
    "- SHA256 : This hash function belong to hash class SHA-2, the internal block size of it is 32 bits.\n",
    "- SHA384 : This hash function belong to hash class SHA-2, the internal block size of it is 32 bits. This is one of the truncated version.\n",
    "- SHA224 : This hash function belong to hash class SHA-2, the internal block size of it is 32 bits. This is one of the truncated version.\n",
    "- SHA512 : This hash function belong to hash class SHA-2, the internal block size of it is 64 bits.\n",
    "- SHA1 : The 160 bit hash function that resembles MD5 hash in working and was discontinued to be used seeing its security vulnerabilities."
   ]
  },
  {
   "cell_type": "code",
   "execution_count": 1,
   "id": "mature-desire",
   "metadata": {},
   "outputs": [],
   "source": [
    "import hashlib"
   ]
  },
  {
   "cell_type": "markdown",
   "id": "corresponding-annotation",
   "metadata": {},
   "source": [
    "### SHA256"
   ]
  },
  {
   "cell_type": "code",
   "execution_count": 13,
   "id": "sought-perfume",
   "metadata": {},
   "outputs": [
    {
     "name": "stdout",
     "output_type": "stream",
     "text": [
      "<sha256 HASH object @ 0x0000022F517C8250>\n"
     ]
    }
   ],
   "source": [
    "str1=\"Krish Naik1\"\n",
    "### Process of Hashing\n",
    "### First step is to encode\n",
    "### Then Apply hashing Algorithms\n",
    "hashedval = hashlib.sha256(str1.encode()) \n",
    "print(hashedval)"
   ]
  },
  {
   "cell_type": "code",
   "execution_count": 14,
   "id": "pacific-beaver",
   "metadata": {},
   "outputs": [
    {
     "data": {
      "text/plain": [
       "'f05951c931847852c55a683e04018ae1a16d9307391b88898bae706f589e8fb9'"
      ]
     },
     "execution_count": 14,
     "metadata": {},
     "output_type": "execute_result"
    }
   ],
   "source": [
    "###convert this value to hexadecimal\n",
    "hashedval.hexdigest()"
   ]
  },
  {
   "cell_type": "markdown",
   "id": "first-butter",
   "metadata": {},
   "source": [
    "### SHA384"
   ]
  },
  {
   "cell_type": "code",
   "execution_count": 16,
   "id": "express-looking",
   "metadata": {},
   "outputs": [
    {
     "data": {
      "text/plain": [
       "'d8dfdd25d4b3e428a2af3b5ec773e2ac26d6b3086c422b633cadf1b08699897bddf5d848fb26e739012d694f4d38b245'"
      ]
     },
     "execution_count": 16,
     "metadata": {},
     "output_type": "execute_result"
    }
   ],
   "source": [
    "hashedval=hashlib.sha384(str1.encode()) \n",
    "hashedval.hexdigest()"
   ]
  },
  {
   "cell_type": "markdown",
   "id": "comic-afghanistan",
   "metadata": {},
   "source": [
    "### SHA224"
   ]
  },
  {
   "cell_type": "code",
   "execution_count": 17,
   "id": "simple-campbell",
   "metadata": {},
   "outputs": [
    {
     "data": {
      "text/plain": [
       "'7f0092838d56259557a4189398992ab151dbe60934366665dd88287e'"
      ]
     },
     "execution_count": 17,
     "metadata": {},
     "output_type": "execute_result"
    }
   ],
   "source": [
    "hashedval=hashlib.sha224(str1.encode()) \n",
    "hashedval.hexdigest()"
   ]
  },
  {
   "cell_type": "markdown",
   "id": "conventional-vector",
   "metadata": {},
   "source": [
    "### SHA512"
   ]
  },
  {
   "cell_type": "code",
   "execution_count": 18,
   "id": "noted-channels",
   "metadata": {},
   "outputs": [
    {
     "data": {
      "text/plain": [
       "'12ac8c737a635bf446090d2b1197bcac06066c997a2c9cbeab9cc8a4357a58fd1fd0e53f853c9ff199ee777b2eada917796b3e2352c97216309e853c3c81567e'"
      ]
     },
     "execution_count": 18,
     "metadata": {},
     "output_type": "execute_result"
    }
   ],
   "source": [
    "hashedval=hashlib.sha512(str1.encode()) \n",
    "hashedval.hexdigest()"
   ]
  },
  {
   "cell_type": "code",
   "execution_count": 19,
   "id": "secondary-witness",
   "metadata": {},
   "outputs": [
    {
     "data": {
      "text/plain": [
       "'7904cce5c2f62f0bd6fbe72f768c4b96f9f8449b'"
      ]
     },
     "execution_count": 19,
     "metadata": {},
     "output_type": "execute_result"
    }
   ],
   "source": [
    "hashedval=hashlib.sha1(str1.encode()) \n",
    "hashedval.hexdigest()"
   ]
  },
  {
   "cell_type": "code",
   "execution_count": null,
   "id": "destroyed-relationship",
   "metadata": {},
   "outputs": [],
   "source": []
  }
 ],
 "metadata": {
  "kernelspec": {
   "display_name": "Python 3",
   "language": "python",
   "name": "python3"
  },
  "language_info": {
   "codemirror_mode": {
    "name": "ipython",
    "version": 3
   },
   "file_extension": ".py",
   "mimetype": "text/x-python",
   "name": "python",
   "nbconvert_exporter": "python",
   "pygments_lexer": "ipython3",
   "version": "3.8.5"
  }
 },
 "nbformat": 4,
 "nbformat_minor": 5
}
